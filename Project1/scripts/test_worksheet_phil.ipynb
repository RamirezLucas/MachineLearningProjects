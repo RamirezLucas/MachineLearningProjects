{
 "cells": [
  {
   "cell_type": "markdown",
   "metadata": {},
   "source": [
    "# First Experiment"
   ]
  },
  {
   "cell_type": "code",
   "execution_count": 1,
   "metadata": {},
   "outputs": [],
   "source": [
    "from implementations import *\n",
    "from proj1_helpers import *"
   ]
  },
  {
   "cell_type": "code",
   "execution_count": 27,
   "metadata": {},
   "outputs": [],
   "source": [
    "y_tr,tx_tr,ids_tr = load_csv_data('../all/train.csv')"
   ]
  },
  {
   "cell_type": "code",
   "execution_count": 28,
   "metadata": {},
   "outputs": [],
   "source": [
    "_,tx_te,ids_te = load_csv_data('../all/test.csv')"
   ]
  },
  {
   "cell_type": "code",
   "execution_count": null,
   "metadata": {},
   "outputs": [],
   "source": []
  },
  {
   "cell_type": "code",
   "execution_count": 30,
   "metadata": {},
   "outputs": [],
   "source": [
    "weights,loss = least_squares(y_tr,tx_tr)"
   ]
  },
  {
   "cell_type": "code",
   "execution_count": 31,
   "metadata": {},
   "outputs": [],
   "source": [
    "y_pred = predict_labels(weights,tx_te)"
   ]
  },
  {
   "cell_type": "code",
   "execution_count": 32,
   "metadata": {},
   "outputs": [
    {
     "data": {
      "text/plain": [
       "(568238,)"
      ]
     },
     "execution_count": 32,
     "metadata": {},
     "output_type": "execute_result"
    }
   ],
   "source": [
    "y_pred.shape"
   ]
  },
  {
   "cell_type": "code",
   "execution_count": 38,
   "metadata": {},
   "outputs": [],
   "source": [
    "create_csv_submission(ids_te,y_pred,'least_squares_solved.csv')"
   ]
  },
  {
   "cell_type": "markdown",
   "metadata": {},
   "source": [
    "# Only Derived Features or Primitive Features"
   ]
  },
  {
   "cell_type": "code",
   "execution_count": 3,
   "metadata": {},
   "outputs": [],
   "source": [
    "from implementations import *\n",
    "from proj1_helpers import *"
   ]
  },
  {
   "cell_type": "code",
   "execution_count": 2,
   "metadata": {},
   "outputs": [],
   "source": [
    "y_tr,tx_tr,ids_tr = load_csv_data('../all/train.csv')"
   ]
  },
  {
   "cell_type": "code",
   "execution_count": 3,
   "metadata": {},
   "outputs": [],
   "source": [
    "_,tx_te,ids_te = load_csv_data('../all/test.csv')"
   ]
  },
  {
   "cell_type": "code",
   "execution_count": 4,
   "metadata": {},
   "outputs": [],
   "source": [
    "tx_tr_der = tx_tr[:,:15]\n",
    "tx_tr_pri = tx_tr[:,15:]"
   ]
  },
  {
   "cell_type": "code",
   "execution_count": 5,
   "metadata": {},
   "outputs": [
    {
     "data": {
      "text/plain": [
       "(250000, 15)"
      ]
     },
     "execution_count": 5,
     "metadata": {},
     "output_type": "execute_result"
    }
   ],
   "source": [
    "tx_tr_der.shape"
   ]
  },
  {
   "cell_type": "code",
   "execution_count": 6,
   "metadata": {},
   "outputs": [],
   "source": [
    "weights_der,loss_der = least_squares(y_tr,tx_tr_der)\n",
    "weights_pri,loss_pri = least_squares(y_tr,tx_tr_pri)"
   ]
  },
  {
   "cell_type": "code",
   "execution_count": 7,
   "metadata": {},
   "outputs": [],
   "source": [
    "y_pred_der = predict_labels(weights_der,tx_te[:,:15])\n",
    "y_pred_pri = predict_labels(weights_pri,tx_te[:,15:])"
   ]
  },
  {
   "cell_type": "code",
   "execution_count": 8,
   "metadata": {},
   "outputs": [
    {
     "data": {
      "text/plain": [
       "(568238,)"
      ]
     },
     "execution_count": 8,
     "metadata": {},
     "output_type": "execute_result"
    }
   ],
   "source": [
    "y_pred_der.shape"
   ]
  },
  {
   "cell_type": "code",
   "execution_count": 9,
   "metadata": {},
   "outputs": [],
   "source": [
    "create_csv_submission(ids_te,y_pred_der,'only_derived_features.csv')\n",
    "create_csv_submission(ids_te,y_pred_pri,'only_primitives_features.csv')"
   ]
  },
  {
   "cell_type": "code",
   "execution_count": 10,
   "metadata": {},
   "outputs": [],
   "source": [
    "# Use SGD with the mean of each feature as w_initial\n",
    "w_initial = []\n",
    "for i in range(0,tx_tr.shape[1]):\n",
    "    w_initial.append(tx_tr[:,i][np.where(tx_tr[:,i] != -999)].mean())"
   ]
  },
  {
   "cell_type": "code",
   "execution_count": 40,
   "metadata": {},
   "outputs": [],
   "source": [
    "# After 9999 iterations with gamma = 10e-8\n",
    "w_initial = [ 3.37029055e-01,  5.65489100e+00,  5.02527572e-01, -2.17310225e+00,\n",
    "       -3.93580998e+00, -2.57676902e-01, -3.42840900e+00,  7.11047980e-01,\n",
    "        3.31146288e+00, -5.49211108e+00,  3.37708684e-01, -3.45348711e-01,\n",
    "       -4.11275081e+00,  5.89253672e+00, -7.77042944e-03, -7.02905170e-03,\n",
    "        4.59511012e+00, -1.67578736e-02,  1.50334830e-02,  5.72084780e+00,\n",
    "       -1.80805659e-03,  1.25559763e+00, -4.16634272e-01,  1.97493110e+01,\n",
    "       -9.82570321e+00, -9.84046189e+00,  2.06992554e+01, -4.19857993e+00,\n",
    "       -4.19922223e+00, -1.59797593e+01]"
   ]
  },
  {
   "cell_type": "code",
   "execution_count": 49,
   "metadata": {},
   "outputs": [
    {
     "name": "stdout",
     "output_type": "stream",
     "text": [
      "Gradient Descent(0/9): loss=103257.6568037911\n",
      "Gradient Descent(1/9): loss=2035951908.2016077\n",
      "Gradient Descent(2/9): loss=218929017685314.25\n",
      "Gradient Descent(3/9): loss=3.2700157181973643e+25\n",
      "Gradient Descent(4/9): loss=1.0753725912575386e+37\n",
      "Gradient Descent(5/9): loss=3.536455527517423e+48\n",
      "Gradient Descent(6/9): loss=1.1629939055628e+60\n",
      "Gradient Descent(7/9): loss=3.824605777881643e+71\n",
      "Gradient Descent(8/9): loss=1.2577546009690334e+83\n",
      "Gradient Descent(9/9): loss=4.1362344987487475e+94\n"
     ]
    }
   ],
   "source": [
    "weights,loss = least_squares_GD(y_tr,tx_tr,w_initial,10,0.1)"
   ]
  },
  {
   "cell_type": "code",
   "execution_count": 35,
   "metadata": {},
   "outputs": [
    {
     "data": {
      "text/plain": [
       "array([ 3.37029055e-01,  5.65489100e+00,  5.02527572e-01, -2.17310225e+00,\n",
       "       -3.93580998e+00, -2.57676902e-01, -3.42840900e+00,  7.11047980e-01,\n",
       "        3.31146288e+00, -5.49211108e+00,  3.37708684e-01, -3.45348711e-01,\n",
       "       -4.11275081e+00,  5.89253672e+00, -7.77042944e-03, -7.02905170e-03,\n",
       "        4.59511012e+00, -1.67578736e-02,  1.50334830e-02,  5.72084780e+00,\n",
       "       -1.80805659e-03,  1.25559763e+00, -4.16634272e-01,  1.97493110e+01,\n",
       "       -9.82570321e+00, -9.84046189e+00,  2.06992554e+01, -4.19857993e+00,\n",
       "       -4.19922223e+00, -1.59797593e+01])"
      ]
     },
     "execution_count": 35,
     "metadata": {},
     "output_type": "execute_result"
    }
   ],
   "source": [
    "weights"
   ]
  },
  {
   "cell_type": "code",
   "execution_count": null,
   "metadata": {},
   "outputs": [],
   "source": [
    "weights_"
   ]
  },
  {
   "cell_type": "code",
   "execution_count": 39,
   "metadata": {},
   "outputs": [
    {
     "name": "stdout",
     "output_type": "stream",
     "text": [
      "1\n"
     ]
    }
   ],
   "source": []
  },
  {
   "cell_type": "code",
   "execution_count": null,
   "metadata": {},
   "outputs": [],
   "source": []
  },
  {
   "cell_type": "markdown",
   "metadata": {},
   "source": [
    "# Using MAE instead of MSE for outliers"
   ]
  },
  {
   "cell_type": "code",
   "execution_count": 1,
   "metadata": {},
   "outputs": [],
   "source": [
    "from implementations import *\n",
    "from proj1_helpers import *"
   ]
  },
  {
   "cell_type": "code",
   "execution_count": 2,
   "metadata": {},
   "outputs": [],
   "source": [
    "y_tr,tx_tr,ids_tr = load_csv_data('../all/train.csv')"
   ]
  },
  {
   "cell_type": "code",
   "execution_count": 3,
   "metadata": {},
   "outputs": [],
   "source": [
    "_,tx_te,ids_te = load_csv_data('../all/test.csv')"
   ]
  },
  {
   "cell_type": "code",
   "execution_count": 4,
   "metadata": {},
   "outputs": [],
   "source": [
    "weights_mae,loss_mae = least_squares(y_tr,tx_tr,compute_mae)"
   ]
  },
  {
   "cell_type": "code",
   "execution_count": 5,
   "metadata": {},
   "outputs": [],
   "source": [
    "y_pred_mae = predict_labels(weights_mae,tx_te)"
   ]
  },
  {
   "cell_type": "code",
   "execution_count": 7,
   "metadata": {},
   "outputs": [],
   "source": [
    "create_csv_submission(ids_te,y_pred_mae,'least_squares_mae.csv')"
   ]
  },
  {
   "cell_type": "markdown",
   "metadata": {},
   "source": [
    "# Experiment without indefinite values"
   ]
  },
  {
   "cell_type": "code",
   "execution_count": 10,
   "metadata": {},
   "outputs": [],
   "source": [
    "# Feature columns with no indefinite values\n",
    "columns = []\n",
    "for i in range(0,tx_tr.shape[1]):\n",
    "    unique, counts = np.unique(tx_tr[:,i], return_counts=True)\n",
    "    if str(dict(zip(unique, counts)).get(-999)) == \"None\" :\n",
    "        columns.append(i)"
   ]
  },
  {
   "cell_type": "code",
   "execution_count": 11,
   "metadata": {},
   "outputs": [],
   "source": [
    "tx_tr_clean = tx_tr[:,columns]"
   ]
  },
  {
   "cell_type": "code",
   "execution_count": 13,
   "metadata": {},
   "outputs": [],
   "source": [
    "weights_clean,loss_clean = least_squares(y_tr,tx_tr_clean)"
   ]
  },
  {
   "cell_type": "code",
   "execution_count": 15,
   "metadata": {},
   "outputs": [],
   "source": [
    "y_pred_clean = predict_labels(weights_clean,tx_te[:,columns])"
   ]
  },
  {
   "cell_type": "code",
   "execution_count": 17,
   "metadata": {},
   "outputs": [],
   "source": [
    "create_csv_submission(ids_te,y_pred_clean,'least_squares_clean.csv')"
   ]
  },
  {
   "cell_type": "code",
   "execution_count": null,
   "metadata": {},
   "outputs": [],
   "source": []
  }
 ],
 "metadata": {
  "kernelspec": {
   "display_name": "Python [default]",
   "language": "python",
   "name": "python3"
  },
  "language_info": {
   "codemirror_mode": {
    "name": "ipython",
    "version": 3
   },
   "file_extension": ".py",
   "mimetype": "text/x-python",
   "name": "python",
   "nbconvert_exporter": "python",
   "pygments_lexer": "ipython3",
   "version": "3.6.4"
  }
 },
 "nbformat": 4,
 "nbformat_minor": 2
}
